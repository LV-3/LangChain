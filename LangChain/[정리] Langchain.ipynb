{
 "cells": [
  {
   "cell_type": "code",
   "execution_count": 2,
   "metadata": {},
   "outputs": [],
   "source": [
    "from tqdm import tqdm\n",
    "import pandas as pd\n",
    "import numpy as np"
   ]
  },
  {
   "cell_type": "code",
   "execution_count": 4,
   "metadata": {},
   "outputs": [
    {
     "data": {
      "text/html": [
       "<div>\n",
       "<style scoped>\n",
       "    .dataframe tbody tr th:only-of-type {\n",
       "        vertical-align: middle;\n",
       "    }\n",
       "\n",
       "    .dataframe tbody tr th {\n",
       "        vertical-align: top;\n",
       "    }\n",
       "\n",
       "    .dataframe thead th {\n",
       "        text-align: right;\n",
       "    }\n",
       "</style>\n",
       "<table border=\"1\" class=\"dataframe\">\n",
       "  <thead>\n",
       "    <tr style=\"text-align: right;\">\n",
       "      <th></th>\n",
       "      <th>title</th>\n",
       "      <th>SMRY</th>\n",
       "    </tr>\n",
       "  </thead>\n",
       "  <tbody>\n",
       "    <tr>\n",
       "      <th>0</th>\n",
       "      <td>빅매치(9월 이벤트)</td>\n",
       "      <td>흥행 끝판왕 이정재의 2014년 선택. 액션은 특급, 질주는 본능, 유머는 옵션. ...</td>\n",
       "    </tr>\n",
       "    <tr>\n",
       "      <th>1</th>\n",
       "      <td>비정규직 특수요원</td>\n",
       "      <td>대한민국 최고기관들이 보이스피싱에 탈탈 털렸다. 만년 알바 인생 장영실은 35살의 ...</td>\n",
       "    </tr>\n",
       "    <tr>\n",
       "      <th>2</th>\n",
       "      <td>비밀의 집</td>\n",
       "      <td>본 회차는 방송사의 사정으로 줄거리를 제공하지 않습니다.</td>\n",
       "    </tr>\n",
       "  </tbody>\n",
       "</table>\n",
       "</div>"
      ],
      "text/plain": [
       "         title                                               SMRY\n",
       "0  빅매치(9월 이벤트)  흥행 끝판왕 이정재의 2014년 선택. 액션은 특급, 질주는 본능, 유머는 옵션. ...\n",
       "1    비정규직 특수요원  대한민국 최고기관들이 보이스피싱에 탈탈 털렸다. 만년 알바 인생 장영실은 35살의 ...\n",
       "2        비밀의 집                    본 회차는 방송사의 사정으로 줄거리를 제공하지 않습니다."
      ]
     },
     "execution_count": 4,
     "metadata": {},
     "output_type": "execute_result"
    }
   ],
   "source": [
    "# load data\n",
    "data = pd.read_csv('/Users/iseunghyeon/Desktop/[프로젝트정리]/resource/VODs_1223_0003.csv')\n",
    "temp_data = data[['title','SMRY']][:3]\n",
    "temp_data"
   ]
  },
  {
   "cell_type": "code",
   "execution_count": 7,
   "metadata": {},
   "outputs": [],
   "source": [
    "from langchain.chat_models import ChatOpenAI\n",
    "from langchain.prompts.chat import (\n",
    "    ChatPromptTemplate,\n",
    "    SystemMessagePromptTemplate,\n",
    "    HumanMessagePromptTemplate,\n",
    ")\n",
    "from langchain.chains import LLMChain\n",
    "from langchain.schema import BaseOutputParser\n",
    "from langchain.llms import OpenAI\n"
   ]
  },
  {
   "cell_type": "code",
   "execution_count": 13,
   "metadata": {},
   "outputs": [],
   "source": [
    "# open ai의 api key를 발급 받고, 발급 받은 api key를 문자열로 \n",
    "\n",
    "open_ai_key = \"{api_key}\"\n",
    "llm = OpenAI(openai_api_key=open_ai_key)"
   ]
  },
  {
   "cell_type": "code",
   "execution_count": null,
   "metadata": {},
   "outputs": [],
   "source": [
    "# GPT가 생성한 단어들을 전처리하기 위한 clean_word 함수 작성.\n",
    "    # '-' 문자를 제외한 나머지 특수문자는 삭제하고, 단어는 소문자로 통일\n",
    "\n",
    "def clean_word(text: str) -> str:\n",
    "    import re\n",
    "    pattern = re.compile(r'[^A-Za-z-]')\n",
    "    cleaned_text = pattern.sub('', text)\n",
    "    cleaned_text_lower = cleaned_text.lower()\n",
    "    return cleaned_text_lower"
   ]
  },
  {
   "cell_type": "code",
   "execution_count": 15,
   "metadata": {},
   "outputs": [],
   "source": [
    "# OutputParser를 통해 GPT에서 생성한 데이터를 형식에 맞춰 추출하도록 한다.\n",
    "\n",
    "class CommaSeparatedListOutputParser(BaseOutputParser):\n",
    "    \"\"\"LLM 아웃풋에 있는 ','를 분리해서 리턴하는 파서.\"\"\"\n",
    "    def parse(self, text: str):\n",
    "        return text.strip().split(\", \")\n"
   ]
  },
  {
   "cell_type": "code",
   "execution_count": 16,
   "metadata": {},
   "outputs": [],
   "source": [
    "# LLM Chain을 통해 데이터  추출.\n",
    "\n",
    "def run_llm_chain(description: str, llm_openai_api_key:str, template:str):\n",
    "    \n",
    "    system_message_prompt = SystemMessagePromptTemplate.from_template(template)\n",
    "\n",
    "    # human_template: 우리 프로젝트에서는 사용하진않음.\n",
    "    human_template = \"{text}\"\n",
    "    human_message_prompt = HumanMessagePromptTemplate.from_template(human_template)\n",
    "\n",
    "    chat_prompt = ChatPromptTemplate.from_messages([system_message_prompt, human_message_prompt])\n",
    "\n",
    "    chain = LLMChain(\n",
    "        llm=ChatOpenAI(openai_api_key=llm_openai_api_key),\n",
    "        prompt=chat_prompt,\n",
    "        output_parser=CommaSeparatedListOutputParser()\n",
    "    )\n",
    "\n",
    "    results = chain.run(description)\n",
    "\n",
    "    # GPT가 생성한 단어 중 문자가 짧거나 긴 단어는 필터링 하기\n",
    "    \n",
    "    results = [clean_word(result) for result in results if 2 <= len(clean_word(result)) <= 20]\n",
    "    \n",
    "    return results\n",
    "\n",
    "\n"
   ]
  },
  {
   "cell_type": "code",
   "execution_count": 17,
   "metadata": {},
   "outputs": [],
   "source": [
    "# Lang Chain에 추출할 Prompt를 제시하기 \n",
    "\n",
    "templates = {\n",
    "\n",
    "    # 줄거리를 통해 무드 장르를 추출하는 템플릿 \n",
    "    'template_A': \"\"\"\n",
    "    You are now an AI that helps film critics express themselves richly.\n",
    "    Please provide the plot of the movie or drama.\n",
    "    List 5 mood words in English that capture the essence of the story.\n",
    "    For example, mood words include “interesting,” “mysterious,” “charming,” and “sense of urgency.”\n",
    "\n",
    "    Separate each mood word with a comma (,) and refrain from adding any additional information.\n",
    "\"\"\",\n",
    "\n",
    "    # 줄거리를 통해 세부 장르를 추출하는 템플릿\n",
    "'template_B':\"\"\"\n",
    "    You are now an AI that helps film critics express themselves richly.\n",
    "    Please provide the plot of the movie or drama.\n",
    "    List 5 genre words in English that capture the essence of the story.\n",
    "    For example, genre words include “joker,” “mysterious,” \"chasing\",“car chasing,”,\"history\"and “war.”\n",
    "\n",
    "    Separate each word with a comma (,) and refrain from adding any additional information.\n",
    "\"\"\",\n",
    "\n",
    "    # 줄거리를 통해 주제어 단어를 추출하는 템플릿\n",
    "'template_C':\"\"\"\n",
    "    You are now an AI that helps film critics express themselves richly.\n",
    "    Please provide the plot of the movie or drama.\n",
    "    List 5 subject words in English that capture the essence of the story.\n",
    "    For example, subject words include “joker,” “cat,” \"couple\",“car”,\"history\"and “war.”\n",
    "\n",
    "    Separate each word with a comma (,) and refrain from adding any additional information.\n",
    "\n",
    "\"\"\"\n",
    "}"
   ]
  },
  {
   "cell_type": "code",
   "execution_count": 19,
   "metadata": {},
   "outputs": [
    {
     "name": "stderr",
     "output_type": "stream",
     "text": [
      "100%|██████████| 3/3 [00:03<00:00,  1.33s/it]\n",
      "100%|██████████| 3/3 [00:04<00:00,  1.36s/it]\n",
      "100%|██████████| 3/3 [00:04<00:00,  1.41s/it]\n"
     ]
    }
   ],
   "source": [
    "# llm_openai_api_key의 인자로 앞서 명시한 api key 대입\n",
    "\n",
    "llm_openai_api_key = open_ai_key\n",
    "\n",
    "tqdm.pandas()\n",
    "\n",
    "# template_value 에서 3개의 템플릿들을 돌면서 메타 데이터를 추출함.\n",
    "for template_key, template_value in templates.items():\n",
    "    temp_data[template_key] = temp_data['SMRY'].progress_apply(\n",
    "\n",
    "         # run_llm_chain의 함수인자로, description: 줄거리, api key, template_value: 구성한 템플릿들을 주어, 메타 데이터 추출하기.\n",
    "        lambda description: [word for word in run_llm_chain(description, llm_openai_api_key, template_value)]\n",
    "    )"
   ]
  },
  {
   "cell_type": "code",
   "execution_count": 20,
   "metadata": {},
   "outputs": [
    {
     "data": {
      "text/html": [
       "<div>\n",
       "<style scoped>\n",
       "    .dataframe tbody tr th:only-of-type {\n",
       "        vertical-align: middle;\n",
       "    }\n",
       "\n",
       "    .dataframe tbody tr th {\n",
       "        vertical-align: top;\n",
       "    }\n",
       "\n",
       "    .dataframe thead th {\n",
       "        text-align: right;\n",
       "    }\n",
       "</style>\n",
       "<table border=\"1\" class=\"dataframe\">\n",
       "  <thead>\n",
       "    <tr style=\"text-align: right;\">\n",
       "      <th></th>\n",
       "      <th>title</th>\n",
       "      <th>SMRY</th>\n",
       "      <th>template_A</th>\n",
       "      <th>template_B</th>\n",
       "      <th>template_C</th>\n",
       "    </tr>\n",
       "  </thead>\n",
       "  <tbody>\n",
       "    <tr>\n",
       "      <th>0</th>\n",
       "      <td>빅매치(9월 이벤트)</td>\n",
       "      <td>흥행 끝판왕 이정재의 2014년 선택. 액션은 특급, 질주는 본능, 유머는 옵션. ...</td>\n",
       "      <td>[action-packed, thrilling, humorous, intense, ...</td>\n",
       "      <td>[action, thriller, comedy, kidnapping, racing]</td>\n",
       "      <td>[action, kidnapping, fighter, race, match]</td>\n",
       "    </tr>\n",
       "    <tr>\n",
       "      <th>1</th>\n",
       "      <td>비정규직 특수요원</td>\n",
       "      <td>대한민국 최고기관들이 보이스피싱에 탈탈 털렸다. 만년 알바 인생 장영실은 35살의 ...</td>\n",
       "      <td>[mysterious, thrilling, suspenseful, intense, ...</td>\n",
       "      <td>[voicephishing, governmentagency, temporaryemp...</td>\n",
       "      <td>[voicephishing, temporaryemployment, nationals...</td>\n",
       "    </tr>\n",
       "    <tr>\n",
       "      <th>2</th>\n",
       "      <td>비밀의 집</td>\n",
       "      <td>본 회차는 방송사의 사정으로 줄거리를 제공하지 않습니다.</td>\n",
       "      <td>[mysterious, intense, suspenseful, emotional, ...</td>\n",
       "      <td>[sorry]</td>\n",
       "      <td>[sorry]</td>\n",
       "    </tr>\n",
       "  </tbody>\n",
       "</table>\n",
       "</div>"
      ],
      "text/plain": [
       "         title                                               SMRY  \\\n",
       "0  빅매치(9월 이벤트)  흥행 끝판왕 이정재의 2014년 선택. 액션은 특급, 질주는 본능, 유머는 옵션. ...   \n",
       "1    비정규직 특수요원  대한민국 최고기관들이 보이스피싱에 탈탈 털렸다. 만년 알바 인생 장영실은 35살의 ...   \n",
       "2        비밀의 집                    본 회차는 방송사의 사정으로 줄거리를 제공하지 않습니다.   \n",
       "\n",
       "                                          template_A  \\\n",
       "0  [action-packed, thrilling, humorous, intense, ...   \n",
       "1  [mysterious, thrilling, suspenseful, intense, ...   \n",
       "2  [mysterious, intense, suspenseful, emotional, ...   \n",
       "\n",
       "                                          template_B  \\\n",
       "0     [action, thriller, comedy, kidnapping, racing]   \n",
       "1  [voicephishing, governmentagency, temporaryemp...   \n",
       "2                                            [sorry]   \n",
       "\n",
       "                                          template_C  \n",
       "0         [action, kidnapping, fighter, race, match]  \n",
       "1  [voicephishing, temporaryemployment, nationals...  \n",
       "2                                            [sorry]  "
      ]
     },
     "execution_count": 20,
     "metadata": {},
     "output_type": "execute_result"
    }
   ],
   "source": [
    "temp_data"
   ]
  },
  {
   "cell_type": "code",
   "execution_count": null,
   "metadata": {},
   "outputs": [],
   "source": []
  }
 ],
 "metadata": {
  "kernelspec": {
   "display_name": "openai_env",
   "language": "python",
   "name": "python3"
  },
  "language_info": {
   "codemirror_mode": {
    "name": "ipython",
    "version": 3
   },
   "file_extension": ".py",
   "mimetype": "text/x-python",
   "name": "python",
   "nbconvert_exporter": "python",
   "pygments_lexer": "ipython3",
   "version": "3.9.18"
  }
 },
 "nbformat": 4,
 "nbformat_minor": 2
}
